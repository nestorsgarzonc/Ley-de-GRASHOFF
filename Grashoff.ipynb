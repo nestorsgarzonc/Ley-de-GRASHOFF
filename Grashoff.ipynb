{
 "cells": [
  {
   "cell_type": "markdown",
   "metadata": {},
   "source": [
    "# Universidad de San Buenaventura sede Bogotá \n",
    "### Ingenieria Aeronautica"
   ]
  },
  {
   "cell_type": "markdown",
   "metadata": {},
   "source": [
    "## Ley de Grashoff\n",
    "En este programa se va a comprobar cuando el mecanismo cumple la ley de Gashof dependiendo de las variables ingresadas por el usuario"
   ]
  },
  {
   "cell_type": "markdown",
   "metadata": {},
   "source": [
    "#### Para la ley de Grashoff tenemos 4 variables como se ven en la imagen:\n",
    "<img src=\"Variables.png\">"
   ]
  },
  {
   "cell_type": "markdown",
   "metadata": {},
   "source": [
    "Entonces para ello los criterios usados para que se cumpla la ley de Gashof son\n",
    "<img src=\"Criterios.png\">\n"
   ]
  },
  {
   "cell_type": "markdown",
   "metadata": {},
   "source": [
    "A continuacion vamos a definir las variables para la prueba, para ello haga doble click en el atributo de la variable que quiere modificar.\n",
    "Cuando edite el codigo oprima la tecla control + enter para ejecutar el codigo"
   ]
  },
  {
   "cell_type": "code",
   "execution_count": 9,
   "metadata": {},
   "outputs": [],
   "source": [
    "s=10\n",
    "p=1\n",
    "q=20\n",
    "l=5"
   ]
  },
  {
   "cell_type": "code",
   "execution_count": 10,
   "metadata": {},
   "outputs": [
    {
     "name": "stdout",
     "output_type": "stream",
     "text": [
      "Felicitaciones, se cumple la ley de Grashoff\n"
     ]
    }
   ],
   "source": [
    "if((s+l)<(p+q)):\n",
    "    print(\"Felicitaciones, se cumple la ley de Grashoff\")\n",
    "else:\n",
    "    print(\"Revise sus variables, no se cumple la ley de Grashoff\")"
   ]
  },
  {
   "cell_type": "code",
   "execution_count": null,
   "metadata": {},
   "outputs": [],
   "source": []
  }
 ],
 "metadata": {
  "kernelspec": {
   "display_name": "Python 3",
   "language": "python",
   "name": "python3"
  },
  "language_info": {
   "codemirror_mode": {
    "name": "ipython",
    "version": 3
   },
   "file_extension": ".py",
   "mimetype": "text/x-python",
   "name": "python",
   "nbconvert_exporter": "python",
   "pygments_lexer": "ipython3",
   "version": "3.7.3"
  }
 },
 "nbformat": 4,
 "nbformat_minor": 2
}
